{
 "cells": [
  {
   "cell_type": "code",
   "execution_count": 23,
   "metadata": {},
   "outputs": [
    {
     "name": "stderr",
     "output_type": "stream",
     "text": [
      "[Parallel(n_jobs=-1)]: Using backend LokyBackend with 8 concurrent workers.\n",
      "[Parallel(n_jobs=-1)]: Batch computation too fast (0.09118890762329102s.) Setting batch_size=2.\n",
      "[Parallel(n_jobs=-1)]: Done   2 tasks      | elapsed:    0.1s\n",
      "[Parallel(n_jobs=-1)]: Done   9 tasks      | elapsed:    0.1s\n",
      "[Parallel(n_jobs=-1)]: Batch computation too fast (0.08355212211608887s.) Setting batch_size=4.\n",
      "[Parallel(n_jobs=-1)]: Done  18 tasks      | elapsed:    0.2s\n",
      "[Parallel(n_jobs=-1)]: Done  35 tasks      | elapsed:    0.2s\n",
      "[Parallel(n_jobs=-1)]: Batch computation too fast (0.04353189468383789s.) Setting batch_size=8.\n",
      "[Parallel(n_jobs=-1)]: Done  58 tasks      | elapsed:    0.3s\n",
      "[Parallel(n_jobs=-1)]: Done 100 tasks      | elapsed:    0.3s\n",
      "[Parallel(n_jobs=-1)]: Batch computation too fast (0.051258087158203125s.) Setting batch_size=16.\n",
      "[Parallel(n_jobs=-1)]: Done 176 tasks      | elapsed:    0.4s\n",
      "[Parallel(n_jobs=-1)]: Batch computation too fast (0.1252140998840332s.) Setting batch_size=32.\n",
      "[Parallel(n_jobs=-1)]: Done 320 tasks      | elapsed:    0.5s\n",
      "[Parallel(n_jobs=-1)]: Batch computation too fast (0.18309903144836426s.) Setting batch_size=64.\n",
      "[Parallel(n_jobs=-1)]: Done 531 tasks      | elapsed:    0.7s\n",
      "[Parallel(n_jobs=-1)]: Done 750 tasks      | elapsed:    0.7s\n",
      "[Parallel(n_jobs=-1)]: Done 795 tasks      | elapsed:    0.7s\n",
      "[Parallel(n_jobs=-1)]: Done 875 tasks      | elapsed:    0.8s\n",
      "[Parallel(n_jobs=-1)]: Done 926 tasks      | elapsed:    0.8s\n",
      "[Parallel(n_jobs=-1)]: Done 1000 out of 1000 | elapsed:    0.8s finished\n",
      "Creating data frame: 100%|██████████| 87/87 [00:00<00:00, 1453802.58it/s]\n",
      "Features processed:  50%|████▉     | 87/175 [00:00<00:00, 520.05it/s]\n"
     ]
    },
    {
     "name": "stdout",
     "output_type": "stream",
     "text": [
      "adjustment p-value with Benjamini/Hochberg (non-negative) Done\n"
     ]
    },
    {
     "data": {
      "application/vnd.plotly.v1+json": {
       "config": {
        "plotlyServerURL": "https://plot.ly"
       },
       "data": [
        {
         "hovertemplate": "colour=Gray<br>Log<sub>2</sub> (<i>Fold change</i>)=%{x}<br>-log<sub>10</sub> (<i>p-value</i>)=%{y}<br>index=%{text}<extra></extra>",
         "legendgroup": "Gray",
         "marker": {
          "color": "#D9D9D9",
          "symbol": "circle"
         },
         "mode": "markers+text",
         "name": "Gray",
         "orientation": "v",
         "showlegend": false,
         "text": [
          0.500489356496207,
          0.500825789087351,
          0.501162221678493,
          0.501498654269636,
          0.501835086860778,
          0.50217151945192,
          0.502507952043063,
          0.502844384634207,
          0.503180817225349,
          0.503517249816491,
          0.503853682407634,
          0.504190114998776,
          0.504526547589919,
          0.504862980181063,
          0.505199412772205,
          0.505535845363347,
          0.50587227795449,
          0.506208710545632,
          0.506545143136774,
          0.506881575727919,
          0.507218008319061,
          0.507554440910203,
          0.507890873501346,
          0.508227306092488,
          0.50856373868363,
          0.508900171274774,
          0.509236603865917,
          0.509573036457059,
          0.509909469048202,
          0.510245901639344,
          0.510582334230486,
          0.51091876682163,
          0.511255199412773,
          0.511591632003915,
          0.511928064595057,
          0.5122644971862,
          0.512600929777342,
          0.512937362368486,
          0.513273794959629,
          0.513610227550771,
          0.513946660141913,
          0.514283092733056,
          0.514619525324198,
          0.514955957915342,
          0.515292390506485,
          0.515628823097627,
          0.515965255688769,
          0.516301688279912,
          0.516638120871054,
          0.516974553462196,
          0.51731098605334,
          0.517647418644483,
          0.517983851235625,
          0.518320283826768,
          0.51865671641791,
          0.518993149009052,
          0.519329581600196,
          0.519666014191339,
          0.520002446782481,
          0.520338879373623,
          0.520675311964766,
          0.521011744555908,
          0.521348177147052,
          0.521684609738195,
          0.522021042329337,
          0.522357474920479,
          0.522693907511622,
          0.523030340102764,
          0.523366772693908,
          0.523703205285051,
          0.524039637876193,
          0.524376070467335,
          0.524712503058478,
          0.52504893564962,
          0.525385368240764,
          0.525721800831906,
          0.526058233423049,
          0.526394666014191,
          0.526731098605334,
          0.527067531196476,
          0.52740396378762,
          0.527740396378762,
          0.528076828969905,
          0.528413261561047,
          0.528749694152189,
          0.529086126743332,
          0.529422559334476
         ],
         "textposition": "top center",
         "type": "scatter",
         "x": [
          0.48229700941299347,
          0.5009893615282001,
          0.1822676923170843,
          0.10699195001738517,
          0.11029169652096744,
          0.5920630324738888,
          0.7202866077004098,
          0.3319670295273782,
          0.12639713774727715,
          0.08328948806022957,
          0.026845357560853676,
          0.183555253779192,
          0.4152749492055695,
          0,
          -0.7671456197579238,
          -0.44842962248236906,
          0,
          0.6934785092580661,
          0.20617903804490326,
          0.4130153108776046,
          0.4618771631657186,
          1.2700405542607287,
          0.14225322687435044,
          0.6470750189015907,
          -1.2712672114428052,
          -0.665889399106392,
          -0.01585617900084866,
          0.19079819988008678,
          0.17786875791273118,
          0.20061091606682788,
          0.4881283238451224,
          0.6536644584748342,
          0,
          -0.14016542676589824,
          0.5763551349309814,
          0.8535386708142805,
          0.9331637178472402,
          0.998797312352975,
          1.6311140100738042,
          -0.6635867802405631,
          0.10852604057396968,
          -0.09805061147896069,
          -0.12613632461942972,
          0.06175428445102951,
          0.2881905726972167,
          0.8864268164913005,
          1.7381434824529471,
          0.8682299182895626,
          -0.29083839453983906,
          -1.1657519607911215,
          2.977086757073382,
          -0.04109139678648264,
          -0.21850896757420976,
          0.48075222219009284,
          1.9164338843898803,
          1.2684457280913397,
          1.1406281894518715,
          -0.31104774080221964,
          -0.23571015764739608,
          -0.21896505517021525,
          -0.5180808087807417,
          0.08417238528510801,
          0.05374746871639768,
          -0.08224992498569086,
          -0.6925065332488867,
          2.108510830909966,
          0.8393007199999643,
          -0.9961099658594339,
          2.637128717436674,
          -1.0367757733545944,
          -0.44235459471613753,
          -0.23489681722470748,
          -0.06511129887390135,
          -0.0011906508911042433,
          -0.03149723956144866,
          -0.10739305365195086,
          -0.3205111692113794,
          -2.0658320497061635,
          0,
          0,
          0,
          -3.0179324104271323,
          -2.2135205037156704,
          1.7007452201136941,
          0.08160008404902772,
          -0.6592495651074023,
          -1.2067404999295193
         ],
         "xaxis": "x",
         "y": [
          0.7711072291248828,
          0.9127826950651756,
          0.29857370652475335,
          0.17114569431823617,
          0.14808385039696123,
          0.8475087162797178,
          0.8215111989948097,
          0.3013405208976556,
          0.13728504103394853,
          0.10383295584204265,
          0.039162937792553594,
          0.3642265933459061,
          0.5320032523521848,
          0.3462731647983762,
          0.3917205928709234,
          0.22059081506170994,
          0.3562403129262603,
          0.44204352063734365,
          0.16983798967290173,
          0.41354631060661917,
          0.2999891011374487,
          0.2478758362641497,
          0.024639552415644327,
          0.19278061115675096,
          0.44494047921065444,
          0.34697503223863424,
          0.015294690882026169,
          0.40982087064191103,
          0.4294098505408744,
          0.3969576282612754,
          0.8101563627591674,
          0.7139430473171003,
          0.39264840194007844,
          0.06152586913001306,
          0.34763681815860364,
          0.47987591076445485,
          0.385371844153972,
          0.29003190937717366,
          0.2745821449501375,
          0.23880937373794492,
          0.12648283556503634,
          0.16800035244821926,
          0.24505117913052413,
          0.10474436240692926,
          0.5117992497852937,
          0.9749319942110272,
          0.6102653257784741,
          0.3061768771955718,
          0.14417801056042426,
          0.5975478390444399,
          0.5339613698200204,
          0.024060297520638436,
          0.14261991268540128,
          0.171135565881419,
          0.26838286839065845,
          0.580743567456776,
          0.4721685077062417,
          0.053049797274135904,
          0.1458889539841432,
          0.1307417651001777,
          0.5694918963280649,
          0.1311713969322079,
          0.09433208746108723,
          0.11152274908044034,
          0.33250574350588574,
          0.1563655929938423,
          0.04007908529628558,
          0.06856986844442833,
          0.09484778522302341,
          0.3698567063248848,
          0.38680999183236414,
          0.5061871255990679,
          0.12875447705466783,
          0.00249041817987245,
          0.07679891822614388,
          0.2799773231214201,
          0.5183582071768137,
          1.7024847099702483,
          2.156753721353487,
          0.9051172449685465,
          1.0518793895873975,
          1.1163901943468342,
          0.5706134517465901,
          0.557501028599116,
          0.04387582298083061,
          0.440606390811874,
          0.4776697790304692
         ],
         "yaxis": "y"
        }
       ],
       "layout": {
        "height": 900,
        "legend": {
         "title": {
          "text": "colour"
         },
         "tracegroupgap": 0
        },
        "margin": {
         "t": 60
        },
        "shapes": [
         {
          "line": {
           "color": "red",
           "dash": "dot",
           "width": 2
          },
          "type": "line",
          "x0": -10,
          "x1": 10,
          "y0": 2,
          "y1": 2
         },
         {
          "line": {
           "color": "red",
           "dash": "dot",
           "width": 2
          },
          "type": "line",
          "x0": -1,
          "x1": -1,
          "y0": 0,
          "y1": 10
         },
         {
          "line": {
           "color": "red",
           "dash": "dot",
           "width": 2
          },
          "type": "line",
          "x0": 1,
          "x1": 1,
          "y0": 0,
          "y1": 10
         }
        ],
        "template": {
         "data": {
          "bar": [
           {
            "error_x": {
             "color": "#2a3f5f"
            },
            "error_y": {
             "color": "#2a3f5f"
            },
            "marker": {
             "line": {
              "color": "#E5ECF6",
              "width": 0.5
             },
             "pattern": {
              "fillmode": "overlay",
              "size": 10,
              "solidity": 0.2
             }
            },
            "type": "bar"
           }
          ],
          "barpolar": [
           {
            "marker": {
             "line": {
              "color": "#E5ECF6",
              "width": 0.5
             },
             "pattern": {
              "fillmode": "overlay",
              "size": 10,
              "solidity": 0.2
             }
            },
            "type": "barpolar"
           }
          ],
          "carpet": [
           {
            "aaxis": {
             "endlinecolor": "#2a3f5f",
             "gridcolor": "white",
             "linecolor": "white",
             "minorgridcolor": "white",
             "startlinecolor": "#2a3f5f"
            },
            "baxis": {
             "endlinecolor": "#2a3f5f",
             "gridcolor": "white",
             "linecolor": "white",
             "minorgridcolor": "white",
             "startlinecolor": "#2a3f5f"
            },
            "type": "carpet"
           }
          ],
          "choropleth": [
           {
            "colorbar": {
             "outlinewidth": 0,
             "ticks": ""
            },
            "type": "choropleth"
           }
          ],
          "contour": [
           {
            "colorbar": {
             "outlinewidth": 0,
             "ticks": ""
            },
            "colorscale": [
             [
              0,
              "#0d0887"
             ],
             [
              0.1111111111111111,
              "#46039f"
             ],
             [
              0.2222222222222222,
              "#7201a8"
             ],
             [
              0.3333333333333333,
              "#9c179e"
             ],
             [
              0.4444444444444444,
              "#bd3786"
             ],
             [
              0.5555555555555556,
              "#d8576b"
             ],
             [
              0.6666666666666666,
              "#ed7953"
             ],
             [
              0.7777777777777778,
              "#fb9f3a"
             ],
             [
              0.8888888888888888,
              "#fdca26"
             ],
             [
              1,
              "#f0f921"
             ]
            ],
            "type": "contour"
           }
          ],
          "contourcarpet": [
           {
            "colorbar": {
             "outlinewidth": 0,
             "ticks": ""
            },
            "type": "contourcarpet"
           }
          ],
          "heatmap": [
           {
            "colorbar": {
             "outlinewidth": 0,
             "ticks": ""
            },
            "colorscale": [
             [
              0,
              "#0d0887"
             ],
             [
              0.1111111111111111,
              "#46039f"
             ],
             [
              0.2222222222222222,
              "#7201a8"
             ],
             [
              0.3333333333333333,
              "#9c179e"
             ],
             [
              0.4444444444444444,
              "#bd3786"
             ],
             [
              0.5555555555555556,
              "#d8576b"
             ],
             [
              0.6666666666666666,
              "#ed7953"
             ],
             [
              0.7777777777777778,
              "#fb9f3a"
             ],
             [
              0.8888888888888888,
              "#fdca26"
             ],
             [
              1,
              "#f0f921"
             ]
            ],
            "type": "heatmap"
           }
          ],
          "heatmapgl": [
           {
            "colorbar": {
             "outlinewidth": 0,
             "ticks": ""
            },
            "colorscale": [
             [
              0,
              "#0d0887"
             ],
             [
              0.1111111111111111,
              "#46039f"
             ],
             [
              0.2222222222222222,
              "#7201a8"
             ],
             [
              0.3333333333333333,
              "#9c179e"
             ],
             [
              0.4444444444444444,
              "#bd3786"
             ],
             [
              0.5555555555555556,
              "#d8576b"
             ],
             [
              0.6666666666666666,
              "#ed7953"
             ],
             [
              0.7777777777777778,
              "#fb9f3a"
             ],
             [
              0.8888888888888888,
              "#fdca26"
             ],
             [
              1,
              "#f0f921"
             ]
            ],
            "type": "heatmapgl"
           }
          ],
          "histogram": [
           {
            "marker": {
             "pattern": {
              "fillmode": "overlay",
              "size": 10,
              "solidity": 0.2
             }
            },
            "type": "histogram"
           }
          ],
          "histogram2d": [
           {
            "colorbar": {
             "outlinewidth": 0,
             "ticks": ""
            },
            "colorscale": [
             [
              0,
              "#0d0887"
             ],
             [
              0.1111111111111111,
              "#46039f"
             ],
             [
              0.2222222222222222,
              "#7201a8"
             ],
             [
              0.3333333333333333,
              "#9c179e"
             ],
             [
              0.4444444444444444,
              "#bd3786"
             ],
             [
              0.5555555555555556,
              "#d8576b"
             ],
             [
              0.6666666666666666,
              "#ed7953"
             ],
             [
              0.7777777777777778,
              "#fb9f3a"
             ],
             [
              0.8888888888888888,
              "#fdca26"
             ],
             [
              1,
              "#f0f921"
             ]
            ],
            "type": "histogram2d"
           }
          ],
          "histogram2dcontour": [
           {
            "colorbar": {
             "outlinewidth": 0,
             "ticks": ""
            },
            "colorscale": [
             [
              0,
              "#0d0887"
             ],
             [
              0.1111111111111111,
              "#46039f"
             ],
             [
              0.2222222222222222,
              "#7201a8"
             ],
             [
              0.3333333333333333,
              "#9c179e"
             ],
             [
              0.4444444444444444,
              "#bd3786"
             ],
             [
              0.5555555555555556,
              "#d8576b"
             ],
             [
              0.6666666666666666,
              "#ed7953"
             ],
             [
              0.7777777777777778,
              "#fb9f3a"
             ],
             [
              0.8888888888888888,
              "#fdca26"
             ],
             [
              1,
              "#f0f921"
             ]
            ],
            "type": "histogram2dcontour"
           }
          ],
          "mesh3d": [
           {
            "colorbar": {
             "outlinewidth": 0,
             "ticks": ""
            },
            "type": "mesh3d"
           }
          ],
          "parcoords": [
           {
            "line": {
             "colorbar": {
              "outlinewidth": 0,
              "ticks": ""
             }
            },
            "type": "parcoords"
           }
          ],
          "pie": [
           {
            "automargin": true,
            "type": "pie"
           }
          ],
          "scatter": [
           {
            "fillpattern": {
             "fillmode": "overlay",
             "size": 10,
             "solidity": 0.2
            },
            "type": "scatter"
           }
          ],
          "scatter3d": [
           {
            "line": {
             "colorbar": {
              "outlinewidth": 0,
              "ticks": ""
             }
            },
            "marker": {
             "colorbar": {
              "outlinewidth": 0,
              "ticks": ""
             }
            },
            "type": "scatter3d"
           }
          ],
          "scattercarpet": [
           {
            "marker": {
             "colorbar": {
              "outlinewidth": 0,
              "ticks": ""
             }
            },
            "type": "scattercarpet"
           }
          ],
          "scattergeo": [
           {
            "marker": {
             "colorbar": {
              "outlinewidth": 0,
              "ticks": ""
             }
            },
            "type": "scattergeo"
           }
          ],
          "scattergl": [
           {
            "marker": {
             "colorbar": {
              "outlinewidth": 0,
              "ticks": ""
             }
            },
            "type": "scattergl"
           }
          ],
          "scattermapbox": [
           {
            "marker": {
             "colorbar": {
              "outlinewidth": 0,
              "ticks": ""
             }
            },
            "type": "scattermapbox"
           }
          ],
          "scatterpolar": [
           {
            "marker": {
             "colorbar": {
              "outlinewidth": 0,
              "ticks": ""
             }
            },
            "type": "scatterpolar"
           }
          ],
          "scatterpolargl": [
           {
            "marker": {
             "colorbar": {
              "outlinewidth": 0,
              "ticks": ""
             }
            },
            "type": "scatterpolargl"
           }
          ],
          "scatterternary": [
           {
            "marker": {
             "colorbar": {
              "outlinewidth": 0,
              "ticks": ""
             }
            },
            "type": "scatterternary"
           }
          ],
          "surface": [
           {
            "colorbar": {
             "outlinewidth": 0,
             "ticks": ""
            },
            "colorscale": [
             [
              0,
              "#0d0887"
             ],
             [
              0.1111111111111111,
              "#46039f"
             ],
             [
              0.2222222222222222,
              "#7201a8"
             ],
             [
              0.3333333333333333,
              "#9c179e"
             ],
             [
              0.4444444444444444,
              "#bd3786"
             ],
             [
              0.5555555555555556,
              "#d8576b"
             ],
             [
              0.6666666666666666,
              "#ed7953"
             ],
             [
              0.7777777777777778,
              "#fb9f3a"
             ],
             [
              0.8888888888888888,
              "#fdca26"
             ],
             [
              1,
              "#f0f921"
             ]
            ],
            "type": "surface"
           }
          ],
          "table": [
           {
            "cells": {
             "fill": {
              "color": "#EBF0F8"
             },
             "line": {
              "color": "white"
             }
            },
            "header": {
             "fill": {
              "color": "#C8D4E3"
             },
             "line": {
              "color": "white"
             }
            },
            "type": "table"
           }
          ]
         },
         "layout": {
          "annotationdefaults": {
           "arrowcolor": "#2a3f5f",
           "arrowhead": 0,
           "arrowwidth": 1
          },
          "autotypenumbers": "strict",
          "coloraxis": {
           "colorbar": {
            "outlinewidth": 0,
            "ticks": ""
           }
          },
          "colorscale": {
           "diverging": [
            [
             0,
             "#8e0152"
            ],
            [
             0.1,
             "#c51b7d"
            ],
            [
             0.2,
             "#de77ae"
            ],
            [
             0.3,
             "#f1b6da"
            ],
            [
             0.4,
             "#fde0ef"
            ],
            [
             0.5,
             "#f7f7f7"
            ],
            [
             0.6,
             "#e6f5d0"
            ],
            [
             0.7,
             "#b8e186"
            ],
            [
             0.8,
             "#7fbc41"
            ],
            [
             0.9,
             "#4d9221"
            ],
            [
             1,
             "#276419"
            ]
           ],
           "sequential": [
            [
             0,
             "#0d0887"
            ],
            [
             0.1111111111111111,
             "#46039f"
            ],
            [
             0.2222222222222222,
             "#7201a8"
            ],
            [
             0.3333333333333333,
             "#9c179e"
            ],
            [
             0.4444444444444444,
             "#bd3786"
            ],
            [
             0.5555555555555556,
             "#d8576b"
            ],
            [
             0.6666666666666666,
             "#ed7953"
            ],
            [
             0.7777777777777778,
             "#fb9f3a"
            ],
            [
             0.8888888888888888,
             "#fdca26"
            ],
            [
             1,
             "#f0f921"
            ]
           ],
           "sequentialminus": [
            [
             0,
             "#0d0887"
            ],
            [
             0.1111111111111111,
             "#46039f"
            ],
            [
             0.2222222222222222,
             "#7201a8"
            ],
            [
             0.3333333333333333,
             "#9c179e"
            ],
            [
             0.4444444444444444,
             "#bd3786"
            ],
            [
             0.5555555555555556,
             "#d8576b"
            ],
            [
             0.6666666666666666,
             "#ed7953"
            ],
            [
             0.7777777777777778,
             "#fb9f3a"
            ],
            [
             0.8888888888888888,
             "#fdca26"
            ],
            [
             1,
             "#f0f921"
            ]
           ]
          },
          "colorway": [
           "#636efa",
           "#EF553B",
           "#00cc96",
           "#ab63fa",
           "#FFA15A",
           "#19d3f3",
           "#FF6692",
           "#B6E880",
           "#FF97FF",
           "#FECB52"
          ],
          "font": {
           "color": "#2a3f5f"
          },
          "geo": {
           "bgcolor": "white",
           "lakecolor": "white",
           "landcolor": "#E5ECF6",
           "showlakes": true,
           "showland": true,
           "subunitcolor": "white"
          },
          "hoverlabel": {
           "align": "left"
          },
          "hovermode": "closest",
          "mapbox": {
           "style": "light"
          },
          "paper_bgcolor": "white",
          "plot_bgcolor": "#E5ECF6",
          "polar": {
           "angularaxis": {
            "gridcolor": "white",
            "linecolor": "white",
            "ticks": ""
           },
           "bgcolor": "#E5ECF6",
           "radialaxis": {
            "gridcolor": "white",
            "linecolor": "white",
            "ticks": ""
           }
          },
          "scene": {
           "xaxis": {
            "backgroundcolor": "#E5ECF6",
            "gridcolor": "white",
            "gridwidth": 2,
            "linecolor": "white",
            "showbackground": true,
            "ticks": "",
            "zerolinecolor": "white"
           },
           "yaxis": {
            "backgroundcolor": "#E5ECF6",
            "gridcolor": "white",
            "gridwidth": 2,
            "linecolor": "white",
            "showbackground": true,
            "ticks": "",
            "zerolinecolor": "white"
           },
           "zaxis": {
            "backgroundcolor": "#E5ECF6",
            "gridcolor": "white",
            "gridwidth": 2,
            "linecolor": "white",
            "showbackground": true,
            "ticks": "",
            "zerolinecolor": "white"
           }
          },
          "shapedefaults": {
           "line": {
            "color": "#2a3f5f"
           }
          },
          "ternary": {
           "aaxis": {
            "gridcolor": "white",
            "linecolor": "white",
            "ticks": ""
           },
           "baxis": {
            "gridcolor": "white",
            "linecolor": "white",
            "ticks": ""
           },
           "bgcolor": "#E5ECF6",
           "caxis": {
            "gridcolor": "white",
            "linecolor": "white",
            "ticks": ""
           }
          },
          "title": {
           "x": 0.05
          },
          "xaxis": {
           "automargin": true,
           "gridcolor": "white",
           "linecolor": "white",
           "ticks": "",
           "title": {
            "standoff": 15
           },
           "zerolinecolor": "white",
           "zerolinewidth": 2
          },
          "yaxis": {
           "automargin": true,
           "gridcolor": "white",
           "linecolor": "white",
           "ticks": "",
           "title": {
            "standoff": 15
           },
           "zerolinecolor": "white",
           "zerolinewidth": 2
          }
         }
        },
        "title": {
         "text": "<b>Volcano plot of On pump CABG (ONCAB) vs Off pump CABG (OPCAB)</b>",
         "x": 0.5,
         "xanchor": "center",
         "y": 0.98,
         "yanchor": "top"
        },
        "width": 1600,
        "xaxis": {
         "anchor": "y",
         "domain": [
          0,
          1
         ],
         "title": {
          "text": "Log<sub>2</sub> (<i>Fold change</i>)"
         }
        },
        "yaxis": {
         "anchor": "x",
         "domain": [
          0,
          1
         ],
         "title": {
          "text": "-log<sub>10</sub> (<i>p-value</i>)"
         }
        }
       }
      }
     },
     "metadata": {},
     "output_type": "display_data"
    }
   ],
   "source": [
    "# Import necessary libraries\n",
    "import numpy as np\n",
    "import pandas as pd\n",
    "from sklearn.model_selection import train_test_split, cross_val_score\n",
    "from sklearn.metrics import accuracy_score, roc_auc_score\n",
    "from sklearn.preprocessing import StandardScaler\n",
    "from sklearn.pipeline import Pipeline\n",
    "from sklearn.decomposition import PCA\n",
    "from sklearn.cross_decomposition import PLSRegression\n",
    "from sklearn.model_selection import permutation_test_score\n",
    "import matplotlib.pyplot as plt\n",
    "from sklearn.metrics import r2_score\n",
    "from sklearn.utils import shuffle\n",
    "import plotly.express as px\n",
    "import plotly.graph_objects as go\n",
    "from plotly.subplots import make_subplots\n",
    "import plotly.offline as pyo\n",
    "import cross_validation\n",
    "import plotting\n",
    "from sklearn.linear_model import LinearRegression\n",
    "from sklearn.metrics import mean_squared_error\n",
    "\n",
    "import warnings\n",
    "warnings.filterwarnings('ignore')\n",
    "\n",
    "from pyChemometrics import ChemometricsScaler\n",
    "\n",
    "import os\n",
    "from lingress.unipair import Unipair\n",
    "\n",
    "\n",
    "\n",
    "\n",
    "\n",
    "\n",
    "\n",
    "#Make directory\n",
    "# path folder\n",
    "path_ = '/Volumes/CAS9/Aeiwz/Project/KOI_CC/Report/OPLSDA'\n",
    "\n",
    "# Create directories if they don't exist\n",
    "os.makedirs('{}/element'.format(path_), exist_ok=True)\n",
    "os.makedirs('{}/element/hist_plot'.format(path_), exist_ok=True)\n",
    "os.makedirs('{}/element/loading_plot'.format(path_), exist_ok=True)\n",
    "os.makedirs('{}/element/score_plot'.format(path_), exist_ok=True)\n",
    "os.makedirs('{}/element/s_plot'.format(path_), exist_ok=True)\n",
    "os.makedirs('{}/main'.format(path_), exist_ok=True)\n",
    "os.makedirs('{}/element/Lingress'.format(path_), exist_ok=True)\n",
    "\n",
    "# Import the datasets from the /data directory\n",
    "\n",
    "\n",
    "# X for the NMR spectra and Y for the 2 outcome variables\n",
    "path_save = \"/Volumes/CAS9/Aeiwz/Project/KOI_CC/Report/OPLSDA/element\"\n",
    "#test group\n",
    "df = pd.read_csv('/Volumes/CAS9/Aeiwz/Project/KOI_CC/Code/dataset_1.csv')\n",
    "#Drop QC samples\n",
    "df = df.drop(df[df['Technique'] == 'QC'].index)\n",
    "\n",
    "Group=\"Technique\"\n",
    "\n",
    "test_index = Unipair.indexing(meta = df, column_name=Group)\n",
    "\n",
    "\n",
    "\n",
    "c_list = test_index\n",
    "\n",
    "\n",
    "Group = \"Technique\"\n",
    "\n",
    "for i in range(len(c_list)):\n",
    "    \n",
    "\n",
    "\n",
    "    test_select = df.copy()\n",
    "    test_select = test_select.loc[c_list[i]]\n",
    "    \n",
    "    \n",
    "    X = test_select.iloc[:, 113:200]\n",
    "    df_X = X\n",
    "    #fill nan with 0\n",
    "    X = X.fillna(0)\n",
    "    meta = test_select.iloc[:, :113]\n",
    "    Y = test_select[Group]\n",
    "    Y1 = pd.Categorical(Y).codes\n",
    "    ppm = list(np.ravel(X.columns).astype(float))\n",
    "    # Use pandas Categorical type to generate the dummy enconding of the Y vector (0 and 1) \n",
    "    name = str(i)\n",
    "   \n",
    "\n",
    "    spectra = test_select.iloc[:, 113:200]\n",
    "    ppm = list(spectra.columns.astype(float))\n",
    "    X = spectra.values\n",
    "    y = Y\n",
    "    \n",
    "    # Create a pipeline with data preprocessing and OPLS-DA model\n",
    "    pipeline = Pipeline([\n",
    "                            ('scale', ChemometricsScaler(scale_power=0.5)),\n",
    "                            ('oplsda', PLSRegression(n_components=2)),\n",
    "                            ('opls', cross_validation.CrossValidation(kfold=3, estimator='opls', scaler='pareto'))\n",
    "                         ])\n",
    "\n",
    "    oplsda = pipeline.named_steps['oplsda']\n",
    "    cv = pipeline.named_steps['opls']\n",
    "    cv.fit(X, y)\n",
    "    cv.reset_optimal_num_component(2)\n",
    "    oplsda.fit(X, pd.Categorical(y).codes)\n",
    "    n_permutate = 1000\n",
    "\n",
    "    # Permutation test to assess the significance of the model\n",
    "    acc_score, permutation_scores, p_value = permutation_test_score(\n",
    "    pipeline.named_steps['oplsda'], X, pd.Categorical(y).codes, cv=3, n_permutations=n_permutate, n_jobs=-1, random_state=57, verbose=10)\n",
    "\n",
    "\n",
    "    s_scores_df = pd.DataFrame({'correlation': cv.correlation,'covariance': cv.covariance}, index=ppm)\n",
    "    df_opls_scores = pd.DataFrame({'t_scores': cv.scores, 't_ortho': cv.orthogonal_score, 't_pred': cv.predictive_score, 'label': y})\n",
    "\n",
    "        \n",
    "    colour_dict = {\n",
    "            \"Off pump CABG (OPCAB)\": \"#E91E63\",        \n",
    "            \"On pump CABG (ONCAB)\": \"#FF9800\",\n",
    "            \"custodiol\": \"#FFEB3B\",       \n",
    "            \"del Nido\": \"#9C27B0\",\n",
    "            \"st. thomas\": \"#03A9F4\",\n",
    "            \"No med\": \"#4CAF50\",        \n",
    "            \"7\": \"#B30000\",\n",
    "            \"8\": \"#3F51B5\"\n",
    "            }\n",
    "\n",
    "    #Visualise\n",
    "    from pca_ellipse import confidence_ellipse\n",
    "    fig = px.scatter(df_opls_scores, x='t_scores', y='t_ortho', \n",
    "                    color='label', \n",
    "                    color_discrete_map=colour_dict, \n",
    "                    title='<b>OPLS-DA Scores Plot<b>', \n",
    "                    height=900, width=1300,\n",
    "                    labels={\n",
    "                        't_pred': 't<sub>predict</sub>',\n",
    "                        't_ortho': 't<sub>orthogonal</sub>',\n",
    "                        't_scores': 't<sub>scores</sub>',\n",
    "                        'label': 'Intervention'}\n",
    "                    )\n",
    "\n",
    "    #fig.add_annotation(yref = 'paper', y = -1.06, xref = 'paper', x=1.06 , text='Q2' +' = {}'.format(np.round(df_explained_variance_.iloc[2,2], decimals=2)))\n",
    "    #fig.update_annotations(font = {\n",
    "    #    'size': 20}, showarrow=False)\n",
    "\n",
    "    #set data point fill alpha with boarder in each color\n",
    "    fig.update_traces(marker=dict(size=35, opacity=0.7, line=dict(width=2, color='DarkSlateGrey')))\n",
    "\n",
    "    fig.add_annotation(dict(font=dict(color=\"black\",size=20),\n",
    "                            #x=x_loc,\n",
    "                            x=0,\n",
    "                            y=1.04+0.05,\n",
    "                            showarrow=False,\n",
    "                            text='<b>R<sup>2</sup>X: {}%<b>'.format(np.round(cv.R2Xcorr*100, decimals=2)),\n",
    "                            textangle=0,\n",
    "                            xref=\"paper\",\n",
    "                            yref=\"paper\"),\n",
    "                            # set alignment of text to left side of entry\n",
    "                            align=\"left\")\n",
    "\n",
    "    fig.add_annotation(dict(font=dict(color=\"black\",size=20),\n",
    "                            #x=x_loc,\n",
    "                            x=0,\n",
    "                            y=1.0+0.05,\n",
    "                            showarrow=False,\n",
    "                            text='<b>R<sup>2</sup>Y: {}%<b>'.format(np.round(cv.R2y*100, decimals=2)),\n",
    "                            textangle=0,\n",
    "                            xref=\"paper\",\n",
    "                            yref=\"paper\"),\n",
    "                            # set alignment of text to left side of entry\n",
    "                            align=\"left\")\n",
    "    fig.add_annotation(dict(font=dict(color=\"black\",size=20),\n",
    "                            #x=x_loc,\n",
    "                            x=0,\n",
    "                            y=1.08+0.05,\n",
    "                            showarrow=False,\n",
    "                            text='<b>Q<sup>2</sup>: {}%<b>'.format(np.round(cv.q2*100, decimals=2)),\n",
    "                            textangle=0,\n",
    "                            xref=\"paper\",\n",
    "                            yref=\"paper\"),\n",
    "                            # set alignment of text to left side of entry\n",
    "                            align=\"left\")\n",
    "\n",
    "    fig.add_shape(type='path',\n",
    "            path=confidence_ellipse(df_opls_scores['t_scores'], df_opls_scores['t_ortho']))\n",
    "\n",
    "\n",
    "    fig.update_traces(marker=dict(size=35))\n",
    "    #fig.update_traces(textposition='top center') #Text label position\n",
    "    #change M to 10^6\n",
    "    fig.update_yaxes(tickformat=\",.0\")\n",
    "    fig.update_xaxes(tickformat=\",.0\")\n",
    "\n",
    "    #fig.update_traces(marker=dict(size=12, color=Y1_color, marker=Y2_marker))\n",
    "\n",
    "    fig.update_xaxes(zeroline=True, zerolinewidth=2, zerolinecolor='Black')\n",
    "    fig.update_yaxes(zeroline=True, zerolinewidth=2, zerolinecolor='Black')\n",
    "    fig.update_xaxes(showline=True, linewidth=2, linecolor='black')\n",
    "    fig.update_yaxes(showline=True, linewidth=2, linecolor='black')\n",
    "    fig.update_layout(\n",
    "        title={\n",
    "            'y':1,\n",
    "            'x':0.5,\n",
    "            'xanchor': 'center',\n",
    "            'yanchor': 'top'},\n",
    "        font=dict(size=20))\n",
    "    fig.update_layout(paper_bgcolor='rgba(0,0,0,0)',plot_bgcolor='rgba(0,0,0,0)')\n",
    "\n",
    "    #fig.show()\n",
    "    fig.write_image(\"{}/score_plot/score_plot_{}.png\".format(path_save, name))\n",
    "    fig.write_html(\"{}/score_plot/score_plot{}.html\".format(path_save, name))\n",
    "\n",
    "\n",
    "\n",
    "\n",
    "    #Histrogram\n",
    "    #Plot histogram of permutation scores\n",
    "    fig = px.histogram(permutation_scores, nbins=50, height=500, width=1000, \n",
    "                    title='<b>Permutation scores<b>',\n",
    "                    labels={'value': 'Accuracy score', \n",
    "                            'count': 'Frequency'})\n",
    "    #add dashed line to indicate the accuracy score of the model line y location is maximum count of histogram\n",
    "    fig.add_shape(type='line', yref='paper', y0=0, y1=1, xref='x', x0=acc_score, x1=acc_score, line=dict(dash='dash', color='red', width=3))\n",
    "\n",
    "\n",
    "    fig.add_annotation(dict(font=dict(color=\"black\",size=14),\n",
    "                            #x=x_loc,\n",
    "                            x=0,\n",
    "                            y=1.25,\n",
    "                            #y=1.18,\n",
    "                            showarrow=False,\n",
    "                            text='Number of permutation: {}'.format(n_permutate),\n",
    "                            textangle=0,\n",
    "                            xref=\"paper\",\n",
    "                            yref=\"paper\"),\n",
    "                            # set alignment of text to left side of entry\n",
    "                            align=\"left\")\n",
    "\n",
    "    fig.add_annotation(dict(font=dict(color=\"black\",size=14),\n",
    "                            #x=x_loc,\n",
    "                            x=0,\n",
    "                            y=1.18,\n",
    "                            showarrow=False,\n",
    "                            text='Accuracy score: {}'.format(np.round(acc_score, decimals=3)),\n",
    "                            textangle=0,\n",
    "                            xref=\"paper\",\n",
    "                            yref=\"paper\"),\n",
    "                            # set alignment of text to left side of entry\n",
    "                            align=\"left\")\n",
    "    fig.add_annotation(dict(font=dict(color=\"black\",size=14),\n",
    "                            #x=x_loc,\n",
    "                            x=0,\n",
    "                            y=1.11,\n",
    "                            showarrow=False,\n",
    "                            text='<i>p-value</i>: {}'.format(np.round(p_value, decimals=6)),\n",
    "                            textangle=0,\n",
    "                            xref=\"paper\",\n",
    "                            yref=\"paper\"),\n",
    "                            # set alignment of text to left side of entry\n",
    "                            align=\"left\")\n",
    "\n",
    "    fig.update_layout(showlegend=False)\n",
    "\n",
    "    fig.update_layout(title_x=0.5)\n",
    "\n",
    "    #fig.show()\n",
    "    fig.write_image(\"{}/hist_plot/Permutation_scores_{}.png\".format(path_save, name))\n",
    "    fig.write_html(\"{}/hist_plot/Permutation_scores_{}.html\".format(path_save, name))\n",
    "    \n",
    "    \n",
    "    \n",
    "    #S plot\n",
    "    # sub-plot covariance for x and correlation for y S-plot using plotly, color by covariance with jet colormap\n",
    "    #setup figure size\n",
    "\n",
    "\n",
    "    fig = px.scatter(s_scores_df, x='covariance', y='correlation', color='covariance', range_color=[-1,1],\n",
    "                     color_continuous_scale='jet', text=s_scores_df.index, height=900, width=2000)\n",
    "    fig.update_layout(title='<b>S-plot</b>', xaxis_title='Covariance', yaxis_title='Correlation')\n",
    "\n",
    "    #add line of axis and set color to black and line width to 2 pixel\n",
    "    fig.update_xaxes(showline=True, linewidth=2, linecolor='black')\n",
    "    fig.update_yaxes(showline=True, linewidth=2, linecolor='black')\n",
    "    #Add tick width to 2 pixel\n",
    "    fig.update_xaxes(tickwidth=2)\n",
    "    fig.update_yaxes(tickwidth=2)\n",
    "    fig.update_layout(paper_bgcolor='rgba(0,0,0,0)',plot_bgcolor='rgba(0,0,0,0)')\n",
    "    fig.update_yaxes(tickformat=\",.0\")\n",
    "    #fig.update_xaxes(tickformat=\",.0\")\n",
    "    fig.update_xaxes(zeroline=True, zerolinewidth=2, zerolinecolor='Black')\n",
    "    fig.update_yaxes(zeroline=True, zerolinewidth=2, zerolinecolor='Black')\n",
    "    fig.update_xaxes(showline=True, linewidth=2, linecolor='black')\n",
    "    fig.update_yaxes(showline=True, linewidth=2, linecolor='black')\n",
    "    fig.update_layout(\n",
    "        title={\n",
    "            'y':1,\n",
    "            'x':0.5,\n",
    "            'xanchor': 'center',\n",
    "            'yanchor': 'top'},\n",
    "        font=dict(size=20))\n",
    "    #Set font size to 20\n",
    "    #Set marker size to 5 pixel\n",
    "    fig.update_traces(marker=dict(size=14))\n",
    "    #fig.show()\n",
    "    fig.write_image(\"{}/s_plot/S_plot_{}.png\".format(path_save, name))\n",
    "    fig.write_html(\"{}/s_plot/S_plot_{}.html\".format(path_save, name))\n",
    "    \n",
    "\n",
    "    #Loadings plot\n",
    "    \n",
    "    # X * 1 when correlation is positive, X * -1 when correlation is negative\n",
    "    def median_corr(X):\n",
    "        X_corr = np.median(X, axis=0)\n",
    "        X_corr = X_corr * np.sign(s_scores_df['correlation'])\n",
    "        return X_corr\n",
    "\n",
    "    X2 = median_corr(X)\n",
    "\n",
    "    fig = px.scatter(s_scores_df, x=ppm, y=X2, color='covariance', color_continuous_scale='jet', text=s_scores_df.index, height=500, width=2000)\n",
    "\n",
    "    fig.update_traces(marker=dict(size=3))\n",
    "    fig.update_xaxes(autorange=\"reversed\")\n",
    "    fig.update_layout(title='<b>Median spectra</b>', xaxis_title='ppm', yaxis_title='Correlation')\n",
    "    fig.update_xaxes(showline=True, linewidth=2, linecolor='black')\n",
    "    fig.update_yaxes(showline=True, linewidth=2, linecolor='black')\n",
    "    #Add tick width to 2 pixel\n",
    "    fig.update_xaxes(tickwidth=2)\n",
    "    fig.update_yaxes(tickwidth=2)\n",
    "\n",
    "    fig.update_layout(paper_bgcolor='rgba(0,0,0,0)',plot_bgcolor='rgba(0,0,0,0)')\n",
    "    fig.update_yaxes(tickformat=\",.0\")\n",
    "    #fig.update_xaxes(tickformat=\",.0\")\n",
    "    fig.update_layout(\n",
    "        title={\n",
    "            'y':1,\n",
    "            'x':0.5,\n",
    "            'xanchor': 'center',\n",
    "            'yanchor': 'top'},\n",
    "        font=dict(size=20))\n",
    "    #Set marker size to 5 pixel\n",
    "    fig.update_traces(marker=dict(size=3))\n",
    "    #fig.show()\n",
    "    fig.write_image(\"{}/loading_plot/loadings_plot_{}.png\".format(path_save, name))\n",
    "    fig.write_html(\"{}/loading_plot/loadings_plot_{}.html\".format(path_save, name))\n",
    "    \n",
    "    from lingress.Lingress import lin_regression\n",
    "    lin_mod = lin_regression(x=df_X, target=meta[Group], label=meta[Group], features_name=ppm)\n",
    "    lin_mod.create_dataset()\n",
    "    lin_mod.fit_model(adj_method='fdr_bh')\n",
    "    report = lin_mod.report()\n",
    "    report.to_csv(\"{}/Lingress/lingress_report_{}.csv\".format(path_save, name))\n",
    "    lin_mod.volcano_plot()\n",
    "    lin_mod.png_plot(plot_name=\"lingress_volcano_plot_{}\".format(name), path_save=path_save)\n",
    "    lin_mod.html_plot(plot_name=\"lingress_volcano_plot_{}\".format(name), path_save=path_save)\n",
    "\n"
   ]
  },
  {
   "cell_type": "code",
   "execution_count": 20,
   "metadata": {},
   "outputs": [
    {
     "data": {
      "text/plain": [
       "1"
      ]
     },
     "execution_count": 20,
     "metadata": {},
     "output_type": "execute_result"
    }
   ],
   "source": [
    "i"
   ]
  },
  {
   "cell_type": "code",
   "execution_count": 22,
   "metadata": {},
   "outputs": [
    {
     "data": {
      "text/plain": [
       "6"
      ]
     },
     "execution_count": 22,
     "metadata": {},
     "output_type": "execute_result"
    }
   ],
   "source": [
    "len(c_list)"
   ]
  }
 ],
 "metadata": {
  "kernelspec": {
   "display_name": "Python 3",
   "language": "python",
   "name": "python3"
  },
  "language_info": {
   "codemirror_mode": {
    "name": "ipython",
    "version": 3
   },
   "file_extension": ".py",
   "mimetype": "text/x-python",
   "name": "python",
   "nbconvert_exporter": "python",
   "pygments_lexer": "ipython3",
   "version": "3.11.7"
  }
 },
 "nbformat": 4,
 "nbformat_minor": 2
}
